{
 "cells": [
  {
   "cell_type": "markdown",
   "metadata": {},
   "source": [
    "# Signal Settings"
   ]
  },
  {
   "cell_type": "code",
   "execution_count": null,
   "metadata": {},
   "outputs": [],
   "source": [
    "import time\n",
    "import csv\n",
    "import pandas as pd "
   ]
  },
  {
   "cell_type": "markdown",
   "metadata": {},
   "source": [
    "## Setup Dictionaries"
   ]
  },
  {
   "cell_type": "code",
   "execution_count": null,
   "metadata": {},
   "outputs": [],
   "source": [
    "signal_configs = {\n",
    "            \"sampling_rate\": 200,\n",
    "            \"cutoff_frequency\": 100,\n",
    "            \"signal_gain\": 1\n",
    "        }"
   ]
  },
  {
   "cell_type": "code",
   "execution_count": null,
   "metadata": {},
   "outputs": [],
   "source": [
    "testing_configs = {\n",
    "            \"start_time_requested\": time.localtime(time.time()),  # Get current time in epoch seconds and convert to local struct_time.\n",
    "            \"test_duration\": 30,  # In Seconds\n",
    "            \"test_name\": 'Jupyter Test',  # Random at first FIXME --> Now doing in __init__ method.\n",
    "            \"sensor_localization\": 'Somewhere in Stefani'\n",
    "        }"
   ]
  },
  {
   "cell_type": "code",
   "execution_count": null,
   "metadata": {},
   "outputs": [],
   "source": [
    "data_handling_configs = {\n",
    "            \"visualize\": False,\n",
    "            \"store\": False\n",
    "        }"
   ]
  },
  {
   "cell_type": "markdown",
   "metadata": {},
   "source": [
    "## Write Dictionary to .CSV"
   ]
  },
  {
   "cell_type": "code",
   "execution_count": null,
   "metadata": {},
   "outputs": [],
   "source": [
    "with open(filename, 'w', newline='') as f:\n",
    "    fieldnames = signal_configs.keys()\n",
    "    writer = csv.DictWriter(f, fieldnames=fieldnames)\n",
    "    \n",
    "    writer.writeheader()\n",
    "    writer.writerow({\"sampling_rate\": 200,\n",
    "        \"cutoff_frequency\": 100,\n",
    "        \"signal_gain\": 1})"
   ]
  },
  {
   "cell_type": "markdown",
   "metadata": {},
   "source": [
    "# Separate Files"
   ]
  },
  {
   "cell_type": "code",
   "execution_count": null,
   "metadata": {},
   "outputs": [],
   "source": [
    "file_signal_configs = r'C:\\Users\\drgdm\\OneDrive - University of Puerto Rico\\Universidad\\Clases\\Capstone Proyect\\Project\\Application\\writting_signal_configs.csv'\n",
    "file_testing_configs = r'C:\\Users\\drgdm\\OneDrive - University of Puerto Rico\\Universidad\\Clases\\Capstone Proyect\\Project\\Application\\testing_configs.csv'\n",
    "file_data_handling_configs = r'C:\\Users\\drgdm\\OneDrive - University of Puerto Rico\\Universidad\\Clases\\Capstone Proyect\\Project\\Application\\writting_data_handling_configs.csv'"
   ]
  },
  {
   "cell_type": "code",
   "execution_count": null,
   "metadata": {},
   "outputs": [],
   "source": [
    "file_list = [file_signal_configs, file_testing_configs, file_data_handling_configs]\n",
    "file_list"
   ]
  },
  {
   "cell_type": "code",
   "execution_count": null,
   "metadata": {},
   "outputs": [],
   "source": [
    "for x in range(0, len(file_list)):\n",
    "    with open(file_list[x], 'w', newline='') as f:\n",
    "        writer = csv.writer(f)\n",
    "        \n",
    "        if x == 0:\n",
    "            writer.writerow(signal_configs.keys())\n",
    "            writer.writerow(signal_configs.values())\n",
    "        elif x == 1:\n",
    "            writer.writerow(testing_configs.keys())\n",
    "            writer.writerow(testing_configs.values())\n",
    "        elif x == 2:\n",
    "            writer.writerow(data_handling_configs.keys())\n",
    "            writer.writerow(data_handling_configs.values())"
   ]
  },
  {
   "cell_type": "markdown",
   "metadata": {},
   "source": [
    "## Same File"
   ]
  },
  {
   "cell_type": "code",
   "execution_count": null,
   "metadata": {},
   "outputs": [],
   "source": [
    "filename = r'C:\\Users\\drgdm\\OneDrive - University of Puerto Rico\\Universidad\\Clases\\Capstone Proyect\\Project\\Application\\writting_settings.csv'\n"
   ]
  },
  {
   "cell_type": "code",
   "execution_count": null,
   "metadata": {},
   "outputs": [],
   "source": [
    "with open(filename, 'w', newline='') as f:\n",
    "    writer = csv.writer(f)\n",
    "    \n",
    "    writer.writerow(signal_configs.keys())\n",
    "    writer.writerow(signal_configs.values())\n",
    "        \n",
    "    writer.writerow(testing_configs.keys())\n",
    "    writer.writerow(testing_configs.values())\n",
    "    \n",
    "    writer.writerow(data_handling_configs.keys())\n",
    "    writer.writerow(data_handling_configs.values())"
   ]
  },
  {
   "cell_type": "code",
   "execution_count": null,
   "metadata": {},
   "outputs": [],
   "source": [
    "data_read = pd.read_csv(r'C:\\Users\\drgdm\\OneDrive - University of Puerto Rico\\Universidad\\Clases\\Capstone Proyect\\Project\\Application\\writting_settings.csv', error_bad_lines=False)\n",
    "data_read"
   ]
  },
  {
   "cell_type": "code",
   "execution_count": null,
   "metadata": {},
   "outputs": [],
   "source": [
    "signal_configs_read = pd.read_csv(file_list[0])\n",
    "signal_configs_read"
   ]
  },
  {
   "cell_type": "code",
   "execution_count": null,
   "metadata": {},
   "outputs": [],
   "source": [
    "testing_configs_read = pd.read_csv(file_list[1])\n",
    "testing_configs_read"
   ]
  },
  {
   "cell_type": "code",
   "execution_count": null,
   "metadata": {},
   "outputs": [],
   "source": [
    "data_handling_configs_read = pd.read_csv(file_list[2])\n",
    "data_handling_configs_read"
   ]
  },
  {
   "cell_type": "code",
   "execution_count": null,
   "metadata": {},
   "outputs": [],
   "source": [
    "signal_configs_read = pd.read_csv(r'C:\\Users\\drgdm\\OneDrive - University of Puerto Rico\\Universidad\\Clases\\Capstone Proyect\\Project\\Application\\writting_settings.csv',header=0, nrows=1)\n",
    "signal_configs_read"
   ]
  },
  {
   "cell_type": "code",
   "execution_count": null,
   "metadata": {},
   "outputs": [],
   "source": [
    "testing_configs_read = pd.read_csv(r'C:\\Users\\drgdm\\OneDrive - University of Puerto Rico\\Universidad\\Clases\\Capstone Proyect\\Project\\Application\\writting_settings.csv',header=2, nrows=1)\n",
    "testing_configs_read"
   ]
  },
  {
   "cell_type": "code",
   "execution_count": null,
   "metadata": {},
   "outputs": [],
   "source": [
    "data_handling_configs_read = pd.read_csv(r'C:\\Users\\drgdm\\OneDrive - University of Puerto Rico\\Universidad\\Clases\\Capstone Proyect\\Project\\Application\\writting_settings.csv',header=4, nrows=1)\n",
    "data_handling_configs_read"
   ]
  },
  {
   "cell_type": "markdown",
   "metadata": {
    "scrolled": true
   },
   "source": [
    "## Read into Dictionary --> Use to overwrite current state dictionaries (LOAD) "
   ]
  },
  {
   "cell_type": "code",
   "execution_count": null,
   "metadata": {},
   "outputs": [],
   "source": [
    "signal_configs_read = pd.read_csv(r'C:\\Users\\drgdm\\OneDrive - University of Puerto Rico\\Universidad\\Clases\\Capstone Proyect\\Project\\Application\\writting_settings.csv',header=0, nrows=1).to_dict('r')[0]\n",
    "signal_configs_read"
   ]
  },
  {
   "cell_type": "code",
   "execution_count": null,
   "metadata": {},
   "outputs": [],
   "source": [
    "testing_configs_read = pd.read_csv(r'C:\\Users\\drgdm\\OneDrive - University of Puerto Rico\\Universidad\\Clases\\Capstone Proyect\\Project\\Application\\writting_settings.csv',header=2, nrows=1).to_dict('r')[0]\n",
    "testing_configs_read"
   ]
  },
  {
   "cell_type": "code",
   "execution_count": null,
   "metadata": {},
   "outputs": [],
   "source": [
    "data_handling_configs_read = pd.read_csv(r'C:\\Users\\drgdm\\OneDrive - University of Puerto Rico\\Universidad\\Clases\\Capstone Proyect\\Project\\Application\\writting_settings.csv',header=4, nrows=1).to_dict('r')[0]\n",
    "data_handling_configs_read"
   ]
  },
  {
   "cell_type": "markdown",
   "metadata": {},
   "source": [
    "## TESTING"
   ]
  },
  {
   "cell_type": "code",
   "execution_count": null,
   "metadata": {},
   "outputs": [],
   "source": [
    "testing_configs_read['test_duration'] = 40\n",
    "testing_configs_read"
   ]
  },
  {
   "cell_type": "code",
   "execution_count": null,
   "metadata": {},
   "outputs": [],
   "source": [
    "filename = r'C:\\Users\\drgdm\\OneDrive - University of Puerto Rico\\Universidad\\Clases\\Capstone Proyect\\Project\\Application\\testing_configs.csv'\n",
    "with open(filename, 'w', newline='') as f:\n",
    "    writer = csv.writer(f)\n",
    "    \n",
    "    writer.writerow(testing_configs_read.keys())\n",
    "    writer.writerow(testing_configs_read.values())"
   ]
  },
  {
   "cell_type": "code",
   "execution_count": null,
   "metadata": {},
   "outputs": [],
   "source": [
    "testing_configs_read = pd.read_csv(r'C:\\Users\\drgdm\\OneDrive - University of Puerto Rico\\Universidad\\Clases\\Capstone Proyect\\Project\\Application\\writting_settings.csv',header=2, nrows=1)\n",
    "testing_configs_read"
   ]
  },
  {
   "cell_type": "code",
   "execution_count": null,
   "metadata": {},
   "outputs": [],
   "source": [
    "testing_configs_read = pd.read_csv(r'C:\\Users\\drgdm\\OneDrive - University of Puerto Rico\\Universidad\\Clases\\Capstone Proyect\\Project\\Application\\writting_settings.csv',header=2, nrows=1).to_dict('r')[0]\n",
    "testing_configs_read"
   ]
  }
 ],
 "metadata": {
  "kernelspec": {
   "display_name": "Python 3",
   "language": "python",
   "name": "python3"
  },
  "language_info": {
   "codemirror_mode": {
    "name": "ipython",
    "version": 3
   },
   "file_extension": ".py",
   "mimetype": "text/x-python",
   "name": "python",
   "nbconvert_exporter": "python",
   "pygments_lexer": "ipython3",
   "version": "3.7.1"
  }
 },
 "nbformat": 4,
 "nbformat_minor": 2
}
